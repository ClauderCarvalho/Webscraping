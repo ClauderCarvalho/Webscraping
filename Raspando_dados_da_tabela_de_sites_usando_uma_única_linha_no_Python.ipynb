{
  "nbformat": 4,
  "nbformat_minor": 0,
  "metadata": {
    "colab": {
      "name": "Raspando dados da tabela de sites - usando uma única linha no Python.ipynb",
      "provenance": [],
      "collapsed_sections": [],
      "authorship_tag": "ABX9TyM1mKkcGXPGEofVJF1wrdgn",
      "include_colab_link": true
    },
    "kernelspec": {
      "name": "python3",
      "display_name": "Python 3"
    }
  },
  "cells": [
    {
      "cell_type": "markdown",
      "metadata": {
        "id": "view-in-github",
        "colab_type": "text"
      },
      "source": [
        "<a href=\"https://colab.research.google.com/github/ClauderCarvalho/Webscraping/blob/master/Raspando_dados_da_tabela_de_sites_usando_uma_%C3%BAnica_linha_no_Python.ipynb\" target=\"_parent\"><img src=\"https://colab.research.google.com/assets/colab-badge.svg\" alt=\"Open In Colab\"/></a>"
      ]
    },
    {
      "cell_type": "code",
      "metadata": {
        "id": "XbTwO-9gjjWG",
        "colab_type": "code",
        "colab": {}
      },
      "source": [
        ""
      ],
      "execution_count": null,
      "outputs": []
    },
    {
      "cell_type": "code",
      "metadata": {
        "id": "AAqot1MWmxc0",
        "colab_type": "code",
        "colab": {}
      },
      "source": [
        "import pandas as pd\n",
        "import numpy as np\n"
      ],
      "execution_count": 3,
      "outputs": []
    },
    {
      "cell_type": "code",
      "metadata": {
        "id": "szXv_y-ym-Rz",
        "colab_type": "code",
        "colab": {}
      },
      "source": [
        "url = \"https://en.wikipedia.org/wiki/Cricket_World_Cup\""
      ],
      "execution_count": 5,
      "outputs": []
    },
    {
      "cell_type": "code",
      "metadata": {
        "id": "QrhpUQRQnpjc",
        "colab_type": "code",
        "colab": {}
      },
      "source": [
        "tabela = pd.read_html(url)"
      ],
      "execution_count": 6,
      "outputs": []
    },
    {
      "cell_type": "code",
      "metadata": {
        "id": "mJTyT2oUoa9U",
        "colab_type": "code",
        "colab": {
          "base_uri": "https://localhost:8080/",
          "height": 34
        },
        "outputId": "533b7ae7-d402-48b0-87c0-287931b85b77"
      },
      "source": [
        "#Descobrir a quantidade de tabelas \n",
        "\n",
        "print('Existem:', len(tables),'tabela')"
      ],
      "execution_count": 9,
      "outputs": [
        {
          "output_type": "stream",
          "text": [
            "Existem: 19 tabela\n"
          ],
          "name": "stdout"
        }
      ]
    },
    {
      "cell_type": "code",
      "metadata": {
        "id": "rXWyQ9DPorTd",
        "colab_type": "code",
        "colab": {
          "base_uri": "https://localhost:8080/",
          "height": 260
        },
        "outputId": "f9b8ec15-4f52-4ef1-e239-fd461928188f"
      },
      "source": [
        "#Pegar a tabela numero 0\n",
        "\n",
        "print('Veja a tabela 0')\n",
        "print(tables[0])"
      ],
      "execution_count": 12,
      "outputs": [
        {
          "output_type": "stream",
          "text": [
            "Veja a tabela 0\n",
            "                       0                                                1\n",
            "0   The World Cup Trophy                             The World Cup Trophy\n",
            "1          Administrator              International Cricket Council (ICC)\n",
            "2                 Format                            One Day International\n",
            "3          First edition                                     1975 England\n",
            "4         Latest edition                             2019 England & Wales\n",
            "5           Next edition                                       2023 India\n",
            "6      Tournament format                                         ↓various\n",
            "7        Number of teams  20 (all tournaments)14 (until 2015)10 (current)\n",
            "8       Current champion                              England (1st title)\n",
            "9        Most successful                             Australia (5 titles)\n",
            "10             Most runs                         Sachin Tendulkar (2,278)\n",
            "11          Most wickets                               Glenn McGrath (71)\n"
          ],
          "name": "stdout"
        }
      ]
    },
    {
      "cell_type": "code",
      "metadata": {
        "id": "ZWSPzRC_p1Ht",
        "colab_type": "code",
        "colab": {}
      },
      "source": [
        ""
      ],
      "execution_count": null,
      "outputs": []
    },
    {
      "cell_type": "markdown",
      "metadata": {
        "id": "FnkYZylAqRGU",
        "colab_type": "text"
      },
      "source": [
        "***2. Lendo uma tabela específica de um site***\n",
        "\n",
        "\n",
        "Se houver muitas tabelas em um site, será uma tarefa tediosa encontrar a tabela que você está direcionando, não será possível procurar manualmente uma tabela. Para isso, precisamos adicionar um parâmetro extra ( match) a ser incluído no método read_html () para procurar automaticamente uma tabela necessária.\n",
        "\n",
        "O atributo match pode receber uma string ou uma expressão regular compilada , pois é um valor"
      ]
    },
    {
      "cell_type": "code",
      "metadata": {
        "id": "Tz2ZadkoqWm0",
        "colab_type": "code",
        "colab": {}
      },
      "source": [
        ""
      ],
      "execution_count": 14,
      "outputs": []
    },
    {
      "cell_type": "markdown",
      "metadata": {
        "id": "BMtCbVlXsCVs",
        "colab_type": "text"
      },
      "source": [
        "Exemplo : Para raspar uma tabela específica usando match como parâmetro"
      ]
    },
    {
      "cell_type": "code",
      "metadata": {
        "id": "FjnWhcjcqh3l",
        "colab_type": "code",
        "colab": {
          "base_uri": "https://localhost:8080/",
          "height": 329
        },
        "outputId": "b1d3ef9e-b441-41ca-a287-e675a95e31a1"
      },
      "source": [
        "url = \"https://en.wikipedia.org/wiki/Cricket_World_Cup\"\n",
        "\n",
        "tables = pd.read_html(url, match='Performance details')\n",
        "\n",
        "print('There are:', len(tables), 'tabelas')\n",
        "print('Take look at table 0')\n",
        "tables[0]"
      ],
      "execution_count": 15,
      "outputs": [
        {
          "output_type": "stream",
          "text": [
            "There are: 2 tabelas\n",
            "Take look at table 0\n"
          ],
          "name": "stdout"
        },
        {
          "output_type": "execute_result",
          "data": {
            "text/html": [
              "<div>\n",
              "<style scoped>\n",
              "    .dataframe tbody tr th:only-of-type {\n",
              "        vertical-align: middle;\n",
              "    }\n",
              "\n",
              "    .dataframe tbody tr th {\n",
              "        vertical-align: top;\n",
              "    }\n",
              "\n",
              "    .dataframe thead th {\n",
              "        text-align: right;\n",
              "    }\n",
              "</style>\n",
              "<table border=\"1\" class=\"dataframe\">\n",
              "  <thead>\n",
              "    <tr style=\"text-align: right;\">\n",
              "      <th></th>\n",
              "      <th>Year</th>\n",
              "      <th>Player</th>\n",
              "      <th>Performance details</th>\n",
              "    </tr>\n",
              "  </thead>\n",
              "  <tbody>\n",
              "    <tr>\n",
              "      <th>0</th>\n",
              "      <td>1992</td>\n",
              "      <td>Martin Crowe</td>\n",
              "      <td>456 runs</td>\n",
              "    </tr>\n",
              "    <tr>\n",
              "      <th>1</th>\n",
              "      <td>1996</td>\n",
              "      <td>Sanath Jayasuriya</td>\n",
              "      <td>221 runs and 7 wickets</td>\n",
              "    </tr>\n",
              "    <tr>\n",
              "      <th>2</th>\n",
              "      <td>1999</td>\n",
              "      <td>Lance Klusener</td>\n",
              "      <td>281 runs and 17 wickets</td>\n",
              "    </tr>\n",
              "    <tr>\n",
              "      <th>3</th>\n",
              "      <td>2003</td>\n",
              "      <td>Sachin Tendulkar</td>\n",
              "      <td>673 runs and 2 wickets</td>\n",
              "    </tr>\n",
              "    <tr>\n",
              "      <th>4</th>\n",
              "      <td>2007</td>\n",
              "      <td>Glenn McGrath</td>\n",
              "      <td>26 wickets</td>\n",
              "    </tr>\n",
              "    <tr>\n",
              "      <th>5</th>\n",
              "      <td>2011</td>\n",
              "      <td>Yuvraj Singh</td>\n",
              "      <td>362 runs and 15 wickets</td>\n",
              "    </tr>\n",
              "    <tr>\n",
              "      <th>6</th>\n",
              "      <td>2015</td>\n",
              "      <td>Mitchell Starc</td>\n",
              "      <td>22 wickets</td>\n",
              "    </tr>\n",
              "    <tr>\n",
              "      <th>7</th>\n",
              "      <td>2019</td>\n",
              "      <td>Kane Williamson</td>\n",
              "      <td>578 runs and 2 wickets</td>\n",
              "    </tr>\n",
              "  </tbody>\n",
              "</table>\n",
              "</div>"
            ],
            "text/plain": [
              "   Year             Player      Performance details\n",
              "0  1992       Martin Crowe                 456 runs\n",
              "1  1996  Sanath Jayasuriya   221 runs and 7 wickets\n",
              "2  1999     Lance Klusener  281 runs and 17 wickets\n",
              "3  2003   Sachin Tendulkar   673 runs and 2 wickets\n",
              "4  2007      Glenn McGrath               26 wickets\n",
              "5  2011       Yuvraj Singh  362 runs and 15 wickets\n",
              "6  2015     Mitchell Starc               22 wickets\n",
              "7  2019    Kane Williamson   578 runs and 2 wickets"
            ]
          },
          "metadata": {
            "tags": []
          },
          "execution_count": 15
        }
      ]
    },
    {
      "cell_type": "markdown",
      "metadata": {
        "id": "uxhEvR04sMXB",
        "colab_type": "text"
      },
      "source": [
        "Nota: O espaço de pesquisa é reduzido; isso pode ajudá-lo a procurar rapidamente a tabela necessária"
      ]
    },
    {
      "cell_type": "code",
      "metadata": {
        "id": "5kuVXk4wr3E4",
        "colab_type": "code",
        "colab": {}
      },
      "source": [
        ""
      ],
      "execution_count": null,
      "outputs": []
    },
    {
      "cell_type": "markdown",
      "metadata": {
        "id": "xlCbUsxWtG95",
        "colab_type": "text"
      },
      "source": [
        "3. Formatação de saída"
      ]
    },
    {
      "cell_type": "markdown",
      "metadata": {
        "id": "bPdr6Z4etU43",
        "colab_type": "text"
      },
      "source": [
        "Atributos úteis   \n",
        "1. cabeçalho: a linha a ser usada como cabeçalho da coluna. \n",
        "2. index_col: a coluna a ser usada para criar o índice \n",
        "3. skiprows: Número de linhas a serem puladas após analisar o número inteiro da coluna"
      ]
    },
    {
      "cell_type": "code",
      "metadata": {
        "id": "752HjnqzsM9d",
        "colab_type": "code",
        "colab": {}
      },
      "source": [
        ""
      ],
      "execution_count": null,
      "outputs": []
    },
    {
      "cell_type": "code",
      "metadata": {
        "id": "fiXc2L2JtIFe",
        "colab_type": "code",
        "colab": {}
      },
      "source": [
        ""
      ],
      "execution_count": null,
      "outputs": []
    },
    {
      "cell_type": "markdown",
      "metadata": {
        "id": "6Fv2HoqRt19q",
        "colab_type": "text"
      },
      "source": [
        "4. Também podemos direcionar uma tabela específica de outra maneira"
      ]
    },
    {
      "cell_type": "code",
      "metadata": {
        "id": "-xTRbc3yt6b2",
        "colab_type": "code",
        "colab": {
          "base_uri": "https://localhost:8080/",
          "height": 165
        },
        "outputId": "05e2c779-3627-4f6a-b808-c10b6f12d3cd"
      },
      "source": [
        "tabela.read_html(url, attrs={'html_tag','value'})"
      ],
      "execution_count": 16,
      "outputs": [
        {
          "output_type": "error",
          "ename": "NameError",
          "evalue": "ignored",
          "traceback": [
            "\u001b[0;31m---------------------------------------------------------------------------\u001b[0m",
            "\u001b[0;31mNameError\u001b[0m                                 Traceback (most recent call last)",
            "\u001b[0;32m<ipython-input-16-19d60b1a0c5f>\u001b[0m in \u001b[0;36m<module>\u001b[0;34m()\u001b[0m\n\u001b[0;32m----> 1\u001b[0;31m \u001b[0mtabela\u001b[0m\u001b[0;34m.\u001b[0m\u001b[0mread_html\u001b[0m\u001b[0;34m(\u001b[0m\u001b[0murl\u001b[0m\u001b[0;34m,\u001b[0m \u001b[0mattrs\u001b[0m\u001b[0;34m=\u001b[0m\u001b[0;34m{\u001b[0m\u001b[0;34m'html_tag'\u001b[0m\u001b[0;34m,\u001b[0m\u001b[0;34m'value'\u001b[0m\u001b[0;34m}\u001b[0m\u001b[0;34m)\u001b[0m\u001b[0;34m\u001b[0m\u001b[0;34m\u001b[0m\u001b[0m\n\u001b[0m",
            "\u001b[0;31mNameError\u001b[0m: name 'tabela' is not defined"
          ]
        }
      ]
    },
    {
      "cell_type": "code",
      "metadata": {
        "id": "ox7MHNZ_uM9F",
        "colab_type": "code",
        "colab": {}
      },
      "source": [
        ""
      ],
      "execution_count": null,
      "outputs": []
    }
  ]
}